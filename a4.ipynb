{
  "nbformat": 4,
  "nbformat_minor": 0,
  "metadata": {
    "colab": {
      "name": "Untitled5.ipynb",
      "provenance": [],
      "authorship_tag": "ABX9TyMRyPw2ARy+hIJOjldkNcXJ",
      "include_colab_link": true
    },
    "kernelspec": {
      "name": "python3",
      "display_name": "Python 3"
    },
    "language_info": {
      "name": "python"
    }
  },
  "cells": [
    {
      "cell_type": "markdown",
      "metadata": {
        "id": "view-in-github",
        "colab_type": "text"
      },
      "source": [
        "<a href=\"https://colab.research.google.com/github/atharva387/Personal-Portfollio/blob/main/a4.ipynb\" target=\"_parent\"><img src=\"https://colab.research.google.com/assets/colab-badge.svg\" alt=\"Open In Colab\"/></a>"
      ]
    },
    {
      "cell_type": "code",
      "execution_count": 1,
      "metadata": {
        "id": "H6_4Xr4lKdsc"
      },
      "outputs": [],
      "source": [
        "import pandas as pd\n",
        "pd.plotting.register_matplotlib_converters() #It registers pandas formaters and con\n",
        "import matplotlib.pyplot as plt\n",
        "%matplotlib inline\n",
        "import numpy as np\n",
        "import seaborn as sns"
      ]
    },
    {
      "cell_type": "code",
      "source": [
        "df = pd.read_csv('AirQualityodisha.csv')\n"
      ],
      "metadata": {
        "id": "HtH1q3lrNM1o"
      },
      "execution_count": 2,
      "outputs": []
    },
    {
      "cell_type": "code",
      "source": [
        "df"
      ],
      "metadata": {
        "colab": {
          "base_uri": "https://localhost:8080/",
          "height": 832
        },
        "id": "l34n4pX8NPeD",
        "outputId": "db94b9e8-5dfc-4b23-8a79-0356dcf1533b"
      },
      "execution_count": 3,
      "outputs": [
        {
          "output_type": "execute_result",
          "data": {
            "text/plain": [
              "      Stn Code Sampling Date   State           City  \\\n",
              "0           68      02-01-15  Odisha        Talcher   \n",
              "1           68      06-01-15  Odisha        Talcher   \n",
              "2           68      09-01-15  Odisha        Talcher   \n",
              "3           68      13-01-15  Odisha        Talcher   \n",
              "4           68      16-01-15  Odisha        Talcher   \n",
              "...        ...           ...     ...            ...   \n",
              "2387       819      15-12-15  Odisha  Kalinga Nagar   \n",
              "2388       819      17-12-15  Odisha  Kalinga Nagar   \n",
              "2389       819      22-12-15  Odisha  Kalinga Nagar   \n",
              "2390       819      26-12-15  Odisha  Kalinga Nagar   \n",
              "2391       819      29-12-15  Odisha  Kalinga Nagar   \n",
              "\n",
              "     Location of Monitoring Station                                Agency  \\\n",
              "0           T.T.P.S.Colony, Talcher  Odisha State Pollution Control Board   \n",
              "1           T.T.P.S.Colony, Talcher  Odisha State Pollution Control Board   \n",
              "2           T.T.P.S.Colony, Talcher  Odisha State Pollution Control Board   \n",
              "3           T.T.P.S.Colony, Talcher  Odisha State Pollution Control Board   \n",
              "4           T.T.P.S.Colony, Talcher  Odisha State Pollution Control Board   \n",
              "...                             ...                                   ...   \n",
              "2387     Roof of RO OFFICE BUILDING  Odisha State Pollution Control Board   \n",
              "2388     Roof of RO OFFICE BUILDING  Odisha State Pollution Control Board   \n",
              "2389     Roof of RO OFFICE BUILDING  Odisha State Pollution Control Board   \n",
              "2390     Roof of RO OFFICE BUILDING  Odisha State Pollution Control Board   \n",
              "2391     Roof of RO OFFICE BUILDING  Odisha State Pollution Control Board   \n",
              "\n",
              "     Type of Location  SO2  NO2  RSPM/PM10  PM 2.5  \n",
              "0     Industrial Area   11   24        143   102.0  \n",
              "1     Industrial Area   10   23        133    96.0  \n",
              "2     Industrial Area    8   25        125   116.0  \n",
              "3     Industrial Area   10   25        137   107.0  \n",
              "4     Industrial Area    9   26        186   118.0  \n",
              "...               ...  ...  ...        ...     ...  \n",
              "2387  Industrial Area    2   10         92    35.0  \n",
              "2388  Industrial Area    2   10         99    40.0  \n",
              "2389  Industrial Area    2   10         90    38.0  \n",
              "2390  Industrial Area    2   10         97    39.0  \n",
              "2391  Industrial Area    2   10         98    39.0  \n",
              "\n",
              "[2392 rows x 11 columns]"
            ],
            "text/html": [
              "\n",
              "  <div id=\"df-a9ab9cd4-0642-4e83-b575-59b626dc5184\">\n",
              "    <div class=\"colab-df-container\">\n",
              "      <div>\n",
              "<style scoped>\n",
              "    .dataframe tbody tr th:only-of-type {\n",
              "        vertical-align: middle;\n",
              "    }\n",
              "\n",
              "    .dataframe tbody tr th {\n",
              "        vertical-align: top;\n",
              "    }\n",
              "\n",
              "    .dataframe thead th {\n",
              "        text-align: right;\n",
              "    }\n",
              "</style>\n",
              "<table border=\"1\" class=\"dataframe\">\n",
              "  <thead>\n",
              "    <tr style=\"text-align: right;\">\n",
              "      <th></th>\n",
              "      <th>Stn Code</th>\n",
              "      <th>Sampling Date</th>\n",
              "      <th>State</th>\n",
              "      <th>City</th>\n",
              "      <th>Location of Monitoring Station</th>\n",
              "      <th>Agency</th>\n",
              "      <th>Type of Location</th>\n",
              "      <th>SO2</th>\n",
              "      <th>NO2</th>\n",
              "      <th>RSPM/PM10</th>\n",
              "      <th>PM 2.5</th>\n",
              "    </tr>\n",
              "  </thead>\n",
              "  <tbody>\n",
              "    <tr>\n",
              "      <th>0</th>\n",
              "      <td>68</td>\n",
              "      <td>02-01-15</td>\n",
              "      <td>Odisha</td>\n",
              "      <td>Talcher</td>\n",
              "      <td>T.T.P.S.Colony, Talcher</td>\n",
              "      <td>Odisha State Pollution Control Board</td>\n",
              "      <td>Industrial Area</td>\n",
              "      <td>11</td>\n",
              "      <td>24</td>\n",
              "      <td>143</td>\n",
              "      <td>102.0</td>\n",
              "    </tr>\n",
              "    <tr>\n",
              "      <th>1</th>\n",
              "      <td>68</td>\n",
              "      <td>06-01-15</td>\n",
              "      <td>Odisha</td>\n",
              "      <td>Talcher</td>\n",
              "      <td>T.T.P.S.Colony, Talcher</td>\n",
              "      <td>Odisha State Pollution Control Board</td>\n",
              "      <td>Industrial Area</td>\n",
              "      <td>10</td>\n",
              "      <td>23</td>\n",
              "      <td>133</td>\n",
              "      <td>96.0</td>\n",
              "    </tr>\n",
              "    <tr>\n",
              "      <th>2</th>\n",
              "      <td>68</td>\n",
              "      <td>09-01-15</td>\n",
              "      <td>Odisha</td>\n",
              "      <td>Talcher</td>\n",
              "      <td>T.T.P.S.Colony, Talcher</td>\n",
              "      <td>Odisha State Pollution Control Board</td>\n",
              "      <td>Industrial Area</td>\n",
              "      <td>8</td>\n",
              "      <td>25</td>\n",
              "      <td>125</td>\n",
              "      <td>116.0</td>\n",
              "    </tr>\n",
              "    <tr>\n",
              "      <th>3</th>\n",
              "      <td>68</td>\n",
              "      <td>13-01-15</td>\n",
              "      <td>Odisha</td>\n",
              "      <td>Talcher</td>\n",
              "      <td>T.T.P.S.Colony, Talcher</td>\n",
              "      <td>Odisha State Pollution Control Board</td>\n",
              "      <td>Industrial Area</td>\n",
              "      <td>10</td>\n",
              "      <td>25</td>\n",
              "      <td>137</td>\n",
              "      <td>107.0</td>\n",
              "    </tr>\n",
              "    <tr>\n",
              "      <th>4</th>\n",
              "      <td>68</td>\n",
              "      <td>16-01-15</td>\n",
              "      <td>Odisha</td>\n",
              "      <td>Talcher</td>\n",
              "      <td>T.T.P.S.Colony, Talcher</td>\n",
              "      <td>Odisha State Pollution Control Board</td>\n",
              "      <td>Industrial Area</td>\n",
              "      <td>9</td>\n",
              "      <td>26</td>\n",
              "      <td>186</td>\n",
              "      <td>118.0</td>\n",
              "    </tr>\n",
              "    <tr>\n",
              "      <th>...</th>\n",
              "      <td>...</td>\n",
              "      <td>...</td>\n",
              "      <td>...</td>\n",
              "      <td>...</td>\n",
              "      <td>...</td>\n",
              "      <td>...</td>\n",
              "      <td>...</td>\n",
              "      <td>...</td>\n",
              "      <td>...</td>\n",
              "      <td>...</td>\n",
              "      <td>...</td>\n",
              "    </tr>\n",
              "    <tr>\n",
              "      <th>2387</th>\n",
              "      <td>819</td>\n",
              "      <td>15-12-15</td>\n",
              "      <td>Odisha</td>\n",
              "      <td>Kalinga Nagar</td>\n",
              "      <td>Roof of RO OFFICE BUILDING</td>\n",
              "      <td>Odisha State Pollution Control Board</td>\n",
              "      <td>Industrial Area</td>\n",
              "      <td>2</td>\n",
              "      <td>10</td>\n",
              "      <td>92</td>\n",
              "      <td>35.0</td>\n",
              "    </tr>\n",
              "    <tr>\n",
              "      <th>2388</th>\n",
              "      <td>819</td>\n",
              "      <td>17-12-15</td>\n",
              "      <td>Odisha</td>\n",
              "      <td>Kalinga Nagar</td>\n",
              "      <td>Roof of RO OFFICE BUILDING</td>\n",
              "      <td>Odisha State Pollution Control Board</td>\n",
              "      <td>Industrial Area</td>\n",
              "      <td>2</td>\n",
              "      <td>10</td>\n",
              "      <td>99</td>\n",
              "      <td>40.0</td>\n",
              "    </tr>\n",
              "    <tr>\n",
              "      <th>2389</th>\n",
              "      <td>819</td>\n",
              "      <td>22-12-15</td>\n",
              "      <td>Odisha</td>\n",
              "      <td>Kalinga Nagar</td>\n",
              "      <td>Roof of RO OFFICE BUILDING</td>\n",
              "      <td>Odisha State Pollution Control Board</td>\n",
              "      <td>Industrial Area</td>\n",
              "      <td>2</td>\n",
              "      <td>10</td>\n",
              "      <td>90</td>\n",
              "      <td>38.0</td>\n",
              "    </tr>\n",
              "    <tr>\n",
              "      <th>2390</th>\n",
              "      <td>819</td>\n",
              "      <td>26-12-15</td>\n",
              "      <td>Odisha</td>\n",
              "      <td>Kalinga Nagar</td>\n",
              "      <td>Roof of RO OFFICE BUILDING</td>\n",
              "      <td>Odisha State Pollution Control Board</td>\n",
              "      <td>Industrial Area</td>\n",
              "      <td>2</td>\n",
              "      <td>10</td>\n",
              "      <td>97</td>\n",
              "      <td>39.0</td>\n",
              "    </tr>\n",
              "    <tr>\n",
              "      <th>2391</th>\n",
              "      <td>819</td>\n",
              "      <td>29-12-15</td>\n",
              "      <td>Odisha</td>\n",
              "      <td>Kalinga Nagar</td>\n",
              "      <td>Roof of RO OFFICE BUILDING</td>\n",
              "      <td>Odisha State Pollution Control Board</td>\n",
              "      <td>Industrial Area</td>\n",
              "      <td>2</td>\n",
              "      <td>10</td>\n",
              "      <td>98</td>\n",
              "      <td>39.0</td>\n",
              "    </tr>\n",
              "  </tbody>\n",
              "</table>\n",
              "<p>2392 rows × 11 columns</p>\n",
              "</div>\n",
              "      <button class=\"colab-df-convert\" onclick=\"convertToInteractive('df-a9ab9cd4-0642-4e83-b575-59b626dc5184')\"\n",
              "              title=\"Convert this dataframe to an interactive table.\"\n",
              "              style=\"display:none;\">\n",
              "        \n",
              "  <svg xmlns=\"http://www.w3.org/2000/svg\" height=\"24px\"viewBox=\"0 0 24 24\"\n",
              "       width=\"24px\">\n",
              "    <path d=\"M0 0h24v24H0V0z\" fill=\"none\"/>\n",
              "    <path d=\"M18.56 5.44l.94 2.06.94-2.06 2.06-.94-2.06-.94-.94-2.06-.94 2.06-2.06.94zm-11 1L8.5 8.5l.94-2.06 2.06-.94-2.06-.94L8.5 2.5l-.94 2.06-2.06.94zm10 10l.94 2.06.94-2.06 2.06-.94-2.06-.94-.94-2.06-.94 2.06-2.06.94z\"/><path d=\"M17.41 7.96l-1.37-1.37c-.4-.4-.92-.59-1.43-.59-.52 0-1.04.2-1.43.59L10.3 9.45l-7.72 7.72c-.78.78-.78 2.05 0 2.83L4 21.41c.39.39.9.59 1.41.59.51 0 1.02-.2 1.41-.59l7.78-7.78 2.81-2.81c.8-.78.8-2.07 0-2.86zM5.41 20L4 18.59l7.72-7.72 1.47 1.35L5.41 20z\"/>\n",
              "  </svg>\n",
              "      </button>\n",
              "      \n",
              "  <style>\n",
              "    .colab-df-container {\n",
              "      display:flex;\n",
              "      flex-wrap:wrap;\n",
              "      gap: 12px;\n",
              "    }\n",
              "\n",
              "    .colab-df-convert {\n",
              "      background-color: #E8F0FE;\n",
              "      border: none;\n",
              "      border-radius: 50%;\n",
              "      cursor: pointer;\n",
              "      display: none;\n",
              "      fill: #1967D2;\n",
              "      height: 32px;\n",
              "      padding: 0 0 0 0;\n",
              "      width: 32px;\n",
              "    }\n",
              "\n",
              "    .colab-df-convert:hover {\n",
              "      background-color: #E2EBFA;\n",
              "      box-shadow: 0px 1px 2px rgba(60, 64, 67, 0.3), 0px 1px 3px 1px rgba(60, 64, 67, 0.15);\n",
              "      fill: #174EA6;\n",
              "    }\n",
              "\n",
              "    [theme=dark] .colab-df-convert {\n",
              "      background-color: #3B4455;\n",
              "      fill: #D2E3FC;\n",
              "    }\n",
              "\n",
              "    [theme=dark] .colab-df-convert:hover {\n",
              "      background-color: #434B5C;\n",
              "      box-shadow: 0px 1px 3px 1px rgba(0, 0, 0, 0.15);\n",
              "      filter: drop-shadow(0px 1px 2px rgba(0, 0, 0, 0.3));\n",
              "      fill: #FFFFFF;\n",
              "    }\n",
              "  </style>\n",
              "\n",
              "      <script>\n",
              "        const buttonEl =\n",
              "          document.querySelector('#df-a9ab9cd4-0642-4e83-b575-59b626dc5184 button.colab-df-convert');\n",
              "        buttonEl.style.display =\n",
              "          google.colab.kernel.accessAllowed ? 'block' : 'none';\n",
              "\n",
              "        async function convertToInteractive(key) {\n",
              "          const element = document.querySelector('#df-a9ab9cd4-0642-4e83-b575-59b626dc5184');\n",
              "          const dataTable =\n",
              "            await google.colab.kernel.invokeFunction('convertToInteractive',\n",
              "                                                     [key], {});\n",
              "          if (!dataTable) return;\n",
              "\n",
              "          const docLinkHtml = 'Like what you see? Visit the ' +\n",
              "            '<a target=\"_blank\" href=https://colab.research.google.com/notebooks/data_table.ipynb>data table notebook</a>'\n",
              "            + ' to learn more about interactive tables.';\n",
              "          element.innerHTML = '';\n",
              "          dataTable['output_type'] = 'display_data';\n",
              "          await google.colab.output.renderOutput(dataTable, element);\n",
              "          const docLink = document.createElement('div');\n",
              "          docLink.innerHTML = docLinkHtml;\n",
              "          element.appendChild(docLink);\n",
              "        }\n",
              "      </script>\n",
              "    </div>\n",
              "  </div>\n",
              "  "
            ]
          },
          "metadata": {},
          "execution_count": 3
        }
      ]
    },
    {
      "cell_type": "code",
      "source": [
        "sns.lineplot(data = df)"
      ],
      "metadata": {
        "colab": {
          "base_uri": "https://localhost:8080/",
          "height": 282
        },
        "id": "5-WLCVZkNSzE",
        "outputId": "72bf9d10-6abf-44d9-cda2-f18a9db88d14"
      },
      "execution_count": 4,
      "outputs": [
        {
          "output_type": "execute_result",
          "data": {
            "text/plain": [
              "<matplotlib.axes._subplots.AxesSubplot at 0x7f7bc55f53d0>"
            ]
          },
          "metadata": {},
          "execution_count": 4
        },
        {
          "output_type": "display_data",
          "data": {
            "text/plain": [
              "<Figure size 432x288 with 1 Axes>"
            ],
            "image/png": "[encoded data removed]"
          },
          "metadata": {
            "needs_background": "light"
          }
        }
      ]
    },
    {
      "cell_type": "code",
      "source": [
        "plt.hist(df['Stn Code'])\n"
      ],
      "metadata": {
        "colab": {
          "base_uri": "https://localhost:8080/",
          "height": 334
        },
        "id": "7QfOtRtYNS4j",
        "outputId": "39ece3c0-3344-46d3-ec46-a616b38aa28b"
      },
      "execution_count": 5,
      "outputs": [
        {
          "output_type": "execute_result",
          "data": {
            "text/plain": [
              "(array([157.,   0., 399.,  75., 690.,  52.,  76.,   0., 702., 241.]),\n",
              " array([ 68. , 143.1, 218.2, 293.3, 368.4, 443.5, 518.6, 593.7, 668.8,\n",
              "        743.9, 819. ]),\n",
              " <a list of 10 Patch objects>)"
            ]
          },
          "metadata": {},
          "execution_count": 5
        },
        {
          "output_type": "display_data",
          "data": {
            "text/plain": [
              "<Figure size 432x288 with 1 Axes>"
            ],
            "image/png": "[encoded data removed]"
          },
          "metadata": {
            "needs_background": "light"
          }
        }
      ]
    },
    {
      "cell_type": "code",
      "source": [
        "sns.barplot(x=df['SO2'], y=df['RSPM/PM10'])"
      ],
      "metadata": {
        "colab": {
          "base_uri": "https://localhost:8080/",
          "height": 297
        },
        "id": "kGyFYKXbNZrN",
        "outputId": "080245cc-6306-40c7-aa0e-1d8e2839991c"
      },
      "execution_count": 6,
      "outputs": [
        {
          "output_type": "execute_result",
          "data": {
            "text/plain": [
              "<matplotlib.axes._subplots.AxesSubplot at 0x7f7bc54cedd0>"
            ]
          },
          "metadata": {},
          "execution_count": 6
        },
        {
          "output_type": "display_data",
          "data": {
            "text/plain": [
              "<Figure size 432x288 with 1 Axes>"
            ],
            "image/png": "[encoded data removed]"
          },
          "metadata": {
            "needs_background": "light"
          }
        }
      ]
    },
    {
      "cell_type": "code",
      "source": [
        "sns.scatterplot( x=df['SO2'] , y=df['NO2'] )\n"
      ],
      "metadata": {
        "colab": {
          "base_uri": "https://localhost:8080/",
          "height": 296
        },
        "id": "JKCbbFIINfxi",
        "outputId": "83542be1-c497-4b89-c502-1d1d17a3e50e"
      },
      "execution_count": 7,
      "outputs": [
        {
          "output_type": "execute_result",
          "data": {
            "text/plain": [
              "<matplotlib.axes._subplots.AxesSubplot at 0x7f7bc4e04d50>"
            ]
          },
          "metadata": {},
          "execution_count": 7
        },
        {
          "output_type": "display_data",
          "data": {
            "text/plain": [
              "<Figure size 432x288 with 1 Axes>"
            ],
            "image/png": "[encoded data removed]"
          },
          "metadata": {
            "needs_background": "light"
          }
        }
      ]
    }
  ]
}