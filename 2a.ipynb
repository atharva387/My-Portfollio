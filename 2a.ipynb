{
  "nbformat": 4,
  "nbformat_minor": 0,
  "metadata": {
    "colab": {
      "name": "Untitled4.ipynb",
      "provenance": [],
      "authorship_tag": "ABX9TyO/hyfteudl3V4cD7PVJwOq",
      "include_colab_link": true
    },
    "kernelspec": {
      "name": "python3",
      "display_name": "Python 3"
    },
    "language_info": {
      "name": "python"
    }
  },
  "cells": [
    {
      "cell_type": "markdown",
      "metadata": {
        "id": "view-in-github",
        "colab_type": "text"
      },
      "source": [
        "<a href=\"https://colab.research.google.com/github/atharva387/Personal-Portfollio/blob/main/2a.ipynb\" target=\"_parent\"><img src=\"https://colab.research.google.com/assets/colab-badge.svg\" alt=\"Open In Colab\"/></a>"
      ]
    },
    {
      "cell_type": "code",
      "execution_count": 1,
      "metadata": {
        "id": "OWG4Fug0JDg7"
      },
      "outputs": [],
      "source": [
        "import pandas as pd\n",
        "pd.plotting.register_matplotlib_converters() #It registers pandas formaters and con\n",
        "import matplotlib.pyplot as plt\n",
        "%matplotlib inline\n",
        "import numpy as np\n",
        "import seaborn as sns\n"
      ]
    },
    {
      "cell_type": "code",
      "source": [
        "df = pd.read_csv('AirQualityodisha.csv')\n"
      ],
      "metadata": {
        "id": "nZ9ifSjqJPI2"
      },
      "execution_count": 2,
      "outputs": []
    },
    {
      "cell_type": "code",
      "source": [
        "df.rename(columns={'PM 2.5':'PM'}, inplace=True)\n",
        "df.tail()\n"
      ],
      "metadata": {
        "colab": {
          "base_uri": "https://localhost:8080/",
          "height": 441
        },
        "id": "mYowZxhqJTUs",
        "outputId": "bae986a1-f771-44c5-e5dc-133c751d8718"
      },
      "execution_count": 3,
      "outputs": [
        {
          "output_type": "execute_result",
          "data": {
            "text/plain": [
              "      Stn Code Sampling Date   State           City  \\\n",
              "2387       819      15-12-15  Odisha  Kalinga Nagar   \n",
              "2388       819      17-12-15  Odisha  Kalinga Nagar   \n",
              "2389       819      22-12-15  Odisha  Kalinga Nagar   \n",
              "2390       819      26-12-15  Odisha  Kalinga Nagar   \n",
              "2391       819      29-12-15  Odisha  Kalinga Nagar   \n",
              "\n",
              "     Location of Monitoring Station                                Agency  \\\n",
              "2387     Roof of RO OFFICE BUILDING  Odisha State Pollution Control Board   \n",
              "2388     Roof of RO OFFICE BUILDING  Odisha State Pollution Control Board   \n",
              "2389     Roof of RO OFFICE BUILDING  Odisha State Pollution Control Board   \n",
              "2390     Roof of RO OFFICE BUILDING  Odisha State Pollution Control Board   \n",
              "2391     Roof of RO OFFICE BUILDING  Odisha State Pollution Control Board   \n",
              "\n",
              "     Type of Location  SO2  NO2  RSPM/PM10    PM  \n",
              "2387  Industrial Area    2   10         92  35.0  \n",
              "2388  Industrial Area    2   10         99  40.0  \n",
              "2389  Industrial Area    2   10         90  38.0  \n",
              "2390  Industrial Area    2   10         97  39.0  \n",
              "2391  Industrial Area    2   10         98  39.0  "
            ],
            "text/html": [
              "\n",
              "  <div id=\"df-410e90a8-a6ef-4e40-a5d3-c627ac4493d3\">\n",
              "    <div class=\"colab-df-container\">\n",
              "      <div>\n",
              "<style scoped>\n",
              "    .dataframe tbody tr th:only-of-type {\n",
              "        vertical-align: middle;\n",
              "    }\n",
              "\n",
              "    .dataframe tbody tr th {\n",
              "        vertical-align: top;\n",
              "    }\n",
              "\n",
              "    .dataframe thead th {\n",
              "        text-align: right;\n",
              "    }\n",
              "</style>\n",
              "<table border=\"1\" class=\"dataframe\">\n",
              "  <thead>\n",
              "    <tr style=\"text-align: right;\">\n",
              "      <th></th>\n",
              "      <th>Stn Code</th>\n",
              "      <th>Sampling Date</th>\n",
              "      <th>State</th>\n",
              "      <th>City</th>\n",
              "      <th>Location of Monitoring Station</th>\n",
              "      <th>Agency</th>\n",
              "      <th>Type of Location</th>\n",
              "      <th>SO2</th>\n",
              "      <th>NO2</th>\n",
              "      <th>RSPM/PM10</th>\n",
              "      <th>PM</th>\n",
              "    </tr>\n",
              "  </thead>\n",
              "  <tbody>\n",
              "    <tr>\n",
              "      <th>2387</th>\n",
              "      <td>819</td>\n",
              "      <td>15-12-15</td>\n",
              "      <td>Odisha</td>\n",
              "      <td>Kalinga Nagar</td>\n",
              "      <td>Roof of RO OFFICE BUILDING</td>\n",
              "      <td>Odisha State Pollution Control Board</td>\n",
              "      <td>Industrial Area</td>\n",
              "      <td>2</td>\n",
              "      <td>10</td>\n",
              "      <td>92</td>\n",
              "      <td>35.0</td>\n",
              "    </tr>\n",
              "    <tr>\n",
              "      <th>2388</th>\n",
              "      <td>819</td>\n",
              "      <td>17-12-15</td>\n",
              "      <td>Odisha</td>\n",
              "      <td>Kalinga Nagar</td>\n",
              "      <td>Roof of RO OFFICE BUILDING</td>\n",
              "      <td>Odisha State Pollution Control Board</td>\n",
              "      <td>Industrial Area</td>\n",
              "      <td>2</td>\n",
              "      <td>10</td>\n",
              "      <td>99</td>\n",
              "      <td>40.0</td>\n",
              "    </tr>\n",
              "    <tr>\n",
              "      <th>2389</th>\n",
              "      <td>819</td>\n",
              "      <td>22-12-15</td>\n",
              "      <td>Odisha</td>\n",
              "      <td>Kalinga Nagar</td>\n",
              "      <td>Roof of RO OFFICE BUILDING</td>\n",
              "      <td>Odisha State Pollution Control Board</td>\n",
              "      <td>Industrial Area</td>\n",
              "      <td>2</td>\n",
              "      <td>10</td>\n",
              "      <td>90</td>\n",
              "      <td>38.0</td>\n",
              "    </tr>\n",
              "    <tr>\n",
              "      <th>2390</th>\n",
              "      <td>819</td>\n",
              "      <td>26-12-15</td>\n",
              "      <td>Odisha</td>\n",
              "      <td>Kalinga Nagar</td>\n",
              "      <td>Roof of RO OFFICE BUILDING</td>\n",
              "      <td>Odisha State Pollution Control Board</td>\n",
              "      <td>Industrial Area</td>\n",
              "      <td>2</td>\n",
              "      <td>10</td>\n",
              "      <td>97</td>\n",
              "      <td>39.0</td>\n",
              "    </tr>\n",
              "    <tr>\n",
              "      <th>2391</th>\n",
              "      <td>819</td>\n",
              "      <td>29-12-15</td>\n",
              "      <td>Odisha</td>\n",
              "      <td>Kalinga Nagar</td>\n",
              "      <td>Roof of RO OFFICE BUILDING</td>\n",
              "      <td>Odisha State Pollution Control Board</td>\n",
              "      <td>Industrial Area</td>\n",
              "      <td>2</td>\n",
              "      <td>10</td>\n",
              "      <td>98</td>\n",
              "      <td>39.0</td>\n",
              "    </tr>\n",
              "  </tbody>\n",
              "</table>\n",
              "</div>\n",
              "      <button class=\"colab-df-convert\" onclick=\"convertToInteractive('df-410e90a8-a6ef-4e40-a5d3-c627ac4493d3')\"\n",
              "              title=\"Convert this dataframe to an interactive table.\"\n",
              "              style=\"display:none;\">\n",
              "        \n",
              "  <svg xmlns=\"http://www.w3.org/2000/svg\" height=\"24px\"viewBox=\"0 0 24 24\"\n",
              "       width=\"24px\">\n",
              "    <path d=\"M0 0h24v24H0V0z\" fill=\"none\"/>\n",
              "    <path d=\"M18.56 5.44l.94 2.06.94-2.06 2.06-.94-2.06-.94-.94-2.06-.94 2.06-2.06.94zm-11 1L8.5 8.5l.94-2.06 2.06-.94-2.06-.94L8.5 2.5l-.94 2.06-2.06.94zm10 10l.94 2.06.94-2.06 2.06-.94-2.06-.94-.94-2.06-.94 2.06-2.06.94z\"/><path d=\"M17.41 7.96l-1.37-1.37c-.4-.4-.92-.59-1.43-.59-.52 0-1.04.2-1.43.59L10.3 9.45l-7.72 7.72c-.78.78-.78 2.05 0 2.83L4 21.41c.39.39.9.59 1.41.59.51 0 1.02-.2 1.41-.59l7.78-7.78 2.81-2.81c.8-.78.8-2.07 0-2.86zM5.41 20L4 18.59l7.72-7.72 1.47 1.35L5.41 20z\"/>\n",
              "  </svg>\n",
              "      </button>\n",
              "      \n",
              "  <style>\n",
              "    .colab-df-container {\n",
              "      display:flex;\n",
              "      flex-wrap:wrap;\n",
              "      gap: 12px;\n",
              "    }\n",
              "\n",
              "    .colab-df-convert {\n",
              "      background-color: #E8F0FE;\n",
              "      border: none;\n",
              "      border-radius: 50%;\n",
              "      cursor: pointer;\n",
              "      display: none;\n",
              "      fill: #1967D2;\n",
              "      height: 32px;\n",
              "      padding: 0 0 0 0;\n",
              "      width: 32px;\n",
              "    }\n",
              "\n",
              "    .colab-df-convert:hover {\n",
              "      background-color: #E2EBFA;\n",
              "      box-shadow: 0px 1px 2px rgba(60, 64, 67, 0.3), 0px 1px 3px 1px rgba(60, 64, 67, 0.15);\n",
              "      fill: #174EA6;\n",
              "    }\n",
              "\n",
              "    [theme=dark] .colab-df-convert {\n",
              "      background-color: #3B4455;\n",
              "      fill: #D2E3FC;\n",
              "    }\n",
              "\n",
              "    [theme=dark] .colab-df-convert:hover {\n",
              "      background-color: #434B5C;\n",
              "      box-shadow: 0px 1px 3px 1px rgba(0, 0, 0, 0.15);\n",
              "      filter: drop-shadow(0px 1px 2px rgba(0, 0, 0, 0.3));\n",
              "      fill: #FFFFFF;\n",
              "    }\n",
              "  </style>\n",
              "\n",
              "      <script>\n",
              "        const buttonEl =\n",
              "          document.querySelector('#df-410e90a8-a6ef-4e40-a5d3-c627ac4493d3 button.colab-df-convert');\n",
              "        buttonEl.style.display =\n",
              "          google.colab.kernel.accessAllowed ? 'block' : 'none';\n",
              "\n",
              "        async function convertToInteractive(key) {\n",
              "          const element = document.querySelector('#df-410e90a8-a6ef-4e40-a5d3-c627ac4493d3');\n",
              "          const dataTable =\n",
              "            await google.colab.kernel.invokeFunction('convertToInteractive',\n",
              "                                                     [key], {});\n",
              "          if (!dataTable) return;\n",
              "\n",
              "          const docLinkHtml = 'Like what you see? Visit the ' +\n",
              "            '<a target=\"_blank\" href=https://colab.research.google.com/notebooks/data_table.ipynb>data table notebook</a>'\n",
              "            + ' to learn more about interactive tables.';\n",
              "          element.innerHTML = '';\n",
              "          dataTable['output_type'] = 'display_data';\n",
              "          await google.colab.output.renderOutput(dataTable, element);\n",
              "          const docLink = document.createElement('div');\n",
              "          docLink.innerHTML = docLinkHtml;\n",
              "          element.appendChild(docLink);\n",
              "        }\n",
              "      </script>\n",
              "    </div>\n",
              "  </div>\n",
              "  "
            ]
          },
          "metadata": {},
          "execution_count": 3
        }
      ]
    },
    {
      "cell_type": "code",
      "source": [
        "df.isnull().sum()\n"
      ],
      "metadata": {
        "colab": {
          "base_uri": "https://localhost:8080/"
        },
        "id": "YjMe8mS_JWT2",
        "outputId": "1ecaa7ed-7391-420c-8a7c-17c0711625ff"
      },
      "execution_count": 4,
      "outputs": [
        {
          "output_type": "execute_result",
          "data": {
            "text/plain": [
              "Stn Code                            0\n",
              "Sampling Date                       0\n",
              "State                               0\n",
              "City                                0\n",
              "Location of Monitoring Station      0\n",
              "Agency                              0\n",
              "Type of Location                    0\n",
              "SO2                                 0\n",
              "NO2                                 0\n",
              "RSPM/PM10                           0\n",
              "PM                                332\n",
              "dtype: int64"
            ]
          },
          "metadata": {},
          "execution_count": 4
        }
      ]
    },
    {
      "cell_type": "code",
      "source": [
        "df['PM'] = df['PM'].replace(np.nan, 0)\n",
        "df.isna().sum()\n"
      ],
      "metadata": {
        "colab": {
          "base_uri": "https://localhost:8080/"
        },
        "id": "VlbKVnnGJYsd",
        "outputId": "23c20c8d-7c19-4245-9ceb-ce1ed4ef310b"
      },
      "execution_count": 5,
      "outputs": [
        {
          "output_type": "execute_result",
          "data": {
            "text/plain": [
              "Stn Code                          0\n",
              "Sampling Date                     0\n",
              "State                             0\n",
              "City                              0\n",
              "Location of Monitoring Station    0\n",
              "Agency                            0\n",
              "Type of Location                  0\n",
              "SO2                               0\n",
              "NO2                               0\n",
              "RSPM/PM10                         0\n",
              "PM                                0\n",
              "dtype: int64"
            ]
          },
          "metadata": {},
          "execution_count": 5
        }
      ]
    },
    {
      "cell_type": "code",
      "source": [
        "df.PM.first_valid_index()"
      ],
      "metadata": {
        "colab": {
          "base_uri": "https://localhost:8080/"
        },
        "id": "r1pu6xdDJbkU",
        "outputId": "6fce8c00-d59c-40ed-cb2c-838a10889f33"
      },
      "execution_count": 6,
      "outputs": [
        {
          "output_type": "execute_result",
          "data": {
            "text/plain": [
              "0"
            ]
          },
          "metadata": {},
          "execution_count": 6
        }
      ]
    },
    {
      "cell_type": "code",
      "source": [
        "df.head()\n"
      ],
      "metadata": {
        "colab": {
          "base_uri": "https://localhost:8080/",
          "height": 354
        },
        "id": "m5C7TjIeJfot",
        "outputId": "28994746-2f18-4331-f81a-6d4a667b8ede"
      },
      "execution_count": 7,
      "outputs": [
        {
          "output_type": "execute_result",
          "data": {
            "text/plain": [
              "   Stn Code Sampling Date   State     City Location of Monitoring Station  \\\n",
              "0        68      02-01-15  Odisha  Talcher        T.T.P.S.Colony, Talcher   \n",
              "1        68      06-01-15  Odisha  Talcher        T.T.P.S.Colony, Talcher   \n",
              "2        68      09-01-15  Odisha  Talcher        T.T.P.S.Colony, Talcher   \n",
              "3        68      13-01-15  Odisha  Talcher        T.T.P.S.Colony, Talcher   \n",
              "4        68      16-01-15  Odisha  Talcher        T.T.P.S.Colony, Talcher   \n",
              "\n",
              "                                 Agency Type of Location  SO2  NO2  RSPM/PM10  \\\n",
              "0  Odisha State Pollution Control Board  Industrial Area   11   24        143   \n",
              "1  Odisha State Pollution Control Board  Industrial Area   10   23        133   \n",
              "2  Odisha State Pollution Control Board  Industrial Area    8   25        125   \n",
              "3  Odisha State Pollution Control Board  Industrial Area   10   25        137   \n",
              "4  Odisha State Pollution Control Board  Industrial Area    9   26        186   \n",
              "\n",
              "      PM  \n",
              "0  102.0  \n",
              "1   96.0  \n",
              "2  116.0  \n",
              "3  107.0  \n",
              "4  118.0  "
            ],
            "text/html": [
              "\n",
              "  <div id=\"df-93703972-4ede-42a9-9535-ea12079f3609\">\n",
              "    <div class=\"colab-df-container\">\n",
              "      <div>\n",
              "<style scoped>\n",
              "    .dataframe tbody tr th:only-of-type {\n",
              "        vertical-align: middle;\n",
              "    }\n",
              "\n",
              "    .dataframe tbody tr th {\n",
              "        vertical-align: top;\n",
              "    }\n",
              "\n",
              "    .dataframe thead th {\n",
              "        text-align: right;\n",
              "    }\n",
              "</style>\n",
              "<table border=\"1\" class=\"dataframe\">\n",
              "  <thead>\n",
              "    <tr style=\"text-align: right;\">\n",
              "      <th></th>\n",
              "      <th>Stn Code</th>\n",
              "      <th>Sampling Date</th>\n",
              "      <th>State</th>\n",
              "      <th>City</th>\n",
              "      <th>Location of Monitoring Station</th>\n",
              "      <th>Agency</th>\n",
              "      <th>Type of Location</th>\n",
              "      <th>SO2</th>\n",
              "      <th>NO2</th>\n",
              "      <th>RSPM/PM10</th>\n",
              "      <th>PM</th>\n",
              "    </tr>\n",
              "  </thead>\n",
              "  <tbody>\n",
              "    <tr>\n",
              "      <th>0</th>\n",
              "      <td>68</td>\n",
              "      <td>02-01-15</td>\n",
              "      <td>Odisha</td>\n",
              "      <td>Talcher</td>\n",
              "      <td>T.T.P.S.Colony, Talcher</td>\n",
              "      <td>Odisha State Pollution Control Board</td>\n",
              "      <td>Industrial Area</td>\n",
              "      <td>11</td>\n",
              "      <td>24</td>\n",
              "      <td>143</td>\n",
              "      <td>102.0</td>\n",
              "    </tr>\n",
              "    <tr>\n",
              "      <th>1</th>\n",
              "      <td>68</td>\n",
              "      <td>06-01-15</td>\n",
              "      <td>Odisha</td>\n",
              "      <td>Talcher</td>\n",
              "      <td>T.T.P.S.Colony, Talcher</td>\n",
              "      <td>Odisha State Pollution Control Board</td>\n",
              "      <td>Industrial Area</td>\n",
              "      <td>10</td>\n",
              "      <td>23</td>\n",
              "      <td>133</td>\n",
              "      <td>96.0</td>\n",
              "    </tr>\n",
              "    <tr>\n",
              "      <th>2</th>\n",
              "      <td>68</td>\n",
              "      <td>09-01-15</td>\n",
              "      <td>Odisha</td>\n",
              "      <td>Talcher</td>\n",
              "      <td>T.T.P.S.Colony, Talcher</td>\n",
              "      <td>Odisha State Pollution Control Board</td>\n",
              "      <td>Industrial Area</td>\n",
              "      <td>8</td>\n",
              "      <td>25</td>\n",
              "      <td>125</td>\n",
              "      <td>116.0</td>\n",
              "    </tr>\n",
              "    <tr>\n",
              "      <th>3</th>\n",
              "      <td>68</td>\n",
              "      <td>13-01-15</td>\n",
              "      <td>Odisha</td>\n",
              "      <td>Talcher</td>\n",
              "      <td>T.T.P.S.Colony, Talcher</td>\n",
              "      <td>Odisha State Pollution Control Board</td>\n",
              "      <td>Industrial Area</td>\n",
              "      <td>10</td>\n",
              "      <td>25</td>\n",
              "      <td>137</td>\n",
              "      <td>107.0</td>\n",
              "    </tr>\n",
              "    <tr>\n",
              "      <th>4</th>\n",
              "      <td>68</td>\n",
              "      <td>16-01-15</td>\n",
              "      <td>Odisha</td>\n",
              "      <td>Talcher</td>\n",
              "      <td>T.T.P.S.Colony, Talcher</td>\n",
              "      <td>Odisha State Pollution Control Board</td>\n",
              "      <td>Industrial Area</td>\n",
              "      <td>9</td>\n",
              "      <td>26</td>\n",
              "      <td>186</td>\n",
              "      <td>118.0</td>\n",
              "    </tr>\n",
              "  </tbody>\n",
              "</table>\n",
              "</div>\n",
              "      <button class=\"colab-df-convert\" onclick=\"convertToInteractive('df-93703972-4ede-42a9-9535-ea12079f3609')\"\n",
              "              title=\"Convert this dataframe to an interactive table.\"\n",
              "              style=\"display:none;\">\n",
              "        \n",
              "  <svg xmlns=\"http://www.w3.org/2000/svg\" height=\"24px\"viewBox=\"0 0 24 24\"\n",
              "       width=\"24px\">\n",
              "    <path d=\"M0 0h24v24H0V0z\" fill=\"none\"/>\n",
              "    <path d=\"M18.56 5.44l.94 2.06.94-2.06 2.06-.94-2.06-.94-.94-2.06-.94 2.06-2.06.94zm-11 1L8.5 8.5l.94-2.06 2.06-.94-2.06-.94L8.5 2.5l-.94 2.06-2.06.94zm10 10l.94 2.06.94-2.06 2.06-.94-2.06-.94-.94-2.06-.94 2.06-2.06.94z\"/><path d=\"M17.41 7.96l-1.37-1.37c-.4-.4-.92-.59-1.43-.59-.52 0-1.04.2-1.43.59L10.3 9.45l-7.72 7.72c-.78.78-.78 2.05 0 2.83L4 21.41c.39.39.9.59 1.41.59.51 0 1.02-.2 1.41-.59l7.78-7.78 2.81-2.81c.8-.78.8-2.07 0-2.86zM5.41 20L4 18.59l7.72-7.72 1.47 1.35L5.41 20z\"/>\n",
              "  </svg>\n",
              "      </button>\n",
              "      \n",
              "  <style>\n",
              "    .colab-df-container {\n",
              "      display:flex;\n",
              "      flex-wrap:wrap;\n",
              "      gap: 12px;\n",
              "    }\n",
              "\n",
              "    .colab-df-convert {\n",
              "      background-color: #E8F0FE;\n",
              "      border: none;\n",
              "      border-radius: 50%;\n",
              "      cursor: pointer;\n",
              "      display: none;\n",
              "      fill: #1967D2;\n",
              "      height: 32px;\n",
              "      padding: 0 0 0 0;\n",
              "      width: 32px;\n",
              "    }\n",
              "\n",
              "    .colab-df-convert:hover {\n",
              "      background-color: #E2EBFA;\n",
              "      box-shadow: 0px 1px 2px rgba(60, 64, 67, 0.3), 0px 1px 3px 1px rgba(60, 64, 67, 0.15);\n",
              "      fill: #174EA6;\n",
              "    }\n",
              "\n",
              "    [theme=dark] .colab-df-convert {\n",
              "      background-color: #3B4455;\n",
              "      fill: #D2E3FC;\n",
              "    }\n",
              "\n",
              "    [theme=dark] .colab-df-convert:hover {\n",
              "      background-color: #434B5C;\n",
              "      box-shadow: 0px 1px 3px 1px rgba(0, 0, 0, 0.15);\n",
              "      filter: drop-shadow(0px 1px 2px rgba(0, 0, 0, 0.3));\n",
              "      fill: #FFFFFF;\n",
              "    }\n",
              "  </style>\n",
              "\n",
              "      <script>\n",
              "        const buttonEl =\n",
              "          document.querySelector('#df-93703972-4ede-42a9-9535-ea12079f3609 button.colab-df-convert');\n",
              "        buttonEl.style.display =\n",
              "          google.colab.kernel.accessAllowed ? 'block' : 'none';\n",
              "\n",
              "        async function convertToInteractive(key) {\n",
              "          const element = document.querySelector('#df-93703972-4ede-42a9-9535-ea12079f3609');\n",
              "          const dataTable =\n",
              "            await google.colab.kernel.invokeFunction('convertToInteractive',\n",
              "                                                     [key], {});\n",
              "          if (!dataTable) return;\n",
              "\n",
              "          const docLinkHtml = 'Like what you see? Visit the ' +\n",
              "            '<a target=\"_blank\" href=https://colab.research.google.com/notebooks/data_table.ipynb>data table notebook</a>'\n",
              "            + ' to learn more about interactive tables.';\n",
              "          element.innerHTML = '';\n",
              "          dataTable['output_type'] = 'display_data';\n",
              "          await google.colab.output.renderOutput(dataTable, element);\n",
              "          const docLink = document.createElement('div');\n",
              "          docLink.innerHTML = docLinkHtml;\n",
              "          element.appendChild(docLink);\n",
              "        }\n",
              "      </script>\n",
              "    </div>\n",
              "  </div>\n",
              "  "
            ]
          },
          "metadata": {},
          "execution_count": 7
        }
      ]
    },
    {
      "cell_type": "code",
      "source": [
        "df.rename(columns={'Location of Monitoring Station':'Location'}, inplace=True )"
      ],
      "metadata": {
        "id": "izzm25ezJisT"
      },
      "execution_count": 8,
      "outputs": []
    },
    {
      "cell_type": "code",
      "source": [
        "df.head()"
      ],
      "metadata": {
        "colab": {
          "base_uri": "https://localhost:8080/",
          "height": 354
        },
        "id": "khZlauLCJlx0",
        "outputId": "a4565c67-d1fa-40b1-f48f-d70d0d899dda"
      },
      "execution_count": 9,
      "outputs": [
        {
          "output_type": "execute_result",
          "data": {
            "text/plain": [
              "   Stn Code Sampling Date   State     City                 Location  \\\n",
              "0        68      02-01-15  Odisha  Talcher  T.T.P.S.Colony, Talcher   \n",
              "1        68      06-01-15  Odisha  Talcher  T.T.P.S.Colony, Talcher   \n",
              "2        68      09-01-15  Odisha  Talcher  T.T.P.S.Colony, Talcher   \n",
              "3        68      13-01-15  Odisha  Talcher  T.T.P.S.Colony, Talcher   \n",
              "4        68      16-01-15  Odisha  Talcher  T.T.P.S.Colony, Talcher   \n",
              "\n",
              "                                 Agency Type of Location  SO2  NO2  RSPM/PM10  \\\n",
              "0  Odisha State Pollution Control Board  Industrial Area   11   24        143   \n",
              "1  Odisha State Pollution Control Board  Industrial Area   10   23        133   \n",
              "2  Odisha State Pollution Control Board  Industrial Area    8   25        125   \n",
              "3  Odisha State Pollution Control Board  Industrial Area   10   25        137   \n",
              "4  Odisha State Pollution Control Board  Industrial Area    9   26        186   \n",
              "\n",
              "      PM  \n",
              "0  102.0  \n",
              "1   96.0  \n",
              "2  116.0  \n",
              "3  107.0  \n",
              "4  118.0  "
            ],
            "text/html": [
              "\n",
              "  <div id=\"df-98903956-0311-405b-bed8-549230f43138\">\n",
              "    <div class=\"colab-df-container\">\n",
              "      <div>\n",
              "<style scoped>\n",
              "    .dataframe tbody tr th:only-of-type {\n",
              "        vertical-align: middle;\n",
              "    }\n",
              "\n",
              "    .dataframe tbody tr th {\n",
              "        vertical-align: top;\n",
              "    }\n",
              "\n",
              "    .dataframe thead th {\n",
              "        text-align: right;\n",
              "    }\n",
              "</style>\n",
              "<table border=\"1\" class=\"dataframe\">\n",
              "  <thead>\n",
              "    <tr style=\"text-align: right;\">\n",
              "      <th></th>\n",
              "      <th>Stn Code</th>\n",
              "      <th>Sampling Date</th>\n",
              "      <th>State</th>\n",
              "      <th>City</th>\n",
              "      <th>Location</th>\n",
              "      <th>Agency</th>\n",
              "      <th>Type of Location</th>\n",
              "      <th>SO2</th>\n",
              "      <th>NO2</th>\n",
              "      <th>RSPM/PM10</th>\n",
              "      <th>PM</th>\n",
              "    </tr>\n",
              "  </thead>\n",
              "  <tbody>\n",
              "    <tr>\n",
              "      <th>0</th>\n",
              "      <td>68</td>\n",
              "      <td>02-01-15</td>\n",
              "      <td>Odisha</td>\n",
              "      <td>Talcher</td>\n",
              "      <td>T.T.P.S.Colony, Talcher</td>\n",
              "      <td>Odisha State Pollution Control Board</td>\n",
              "      <td>Industrial Area</td>\n",
              "      <td>11</td>\n",
              "      <td>24</td>\n",
              "      <td>143</td>\n",
              "      <td>102.0</td>\n",
              "    </tr>\n",
              "    <tr>\n",
              "      <th>1</th>\n",
              "      <td>68</td>\n",
              "      <td>06-01-15</td>\n",
              "      <td>Odisha</td>\n",
              "      <td>Talcher</td>\n",
              "      <td>T.T.P.S.Colony, Talcher</td>\n",
              "      <td>Odisha State Pollution Control Board</td>\n",
              "      <td>Industrial Area</td>\n",
              "      <td>10</td>\n",
              "      <td>23</td>\n",
              "      <td>133</td>\n",
              "      <td>96.0</td>\n",
              "    </tr>\n",
              "    <tr>\n",
              "      <th>2</th>\n",
              "      <td>68</td>\n",
              "      <td>09-01-15</td>\n",
              "      <td>Odisha</td>\n",
              "      <td>Talcher</td>\n",
              "      <td>T.T.P.S.Colony, Talcher</td>\n",
              "      <td>Odisha State Pollution Control Board</td>\n",
              "      <td>Industrial Area</td>\n",
              "      <td>8</td>\n",
              "      <td>25</td>\n",
              "      <td>125</td>\n",
              "      <td>116.0</td>\n",
              "    </tr>\n",
              "    <tr>\n",
              "      <th>3</th>\n",
              "      <td>68</td>\n",
              "      <td>13-01-15</td>\n",
              "      <td>Odisha</td>\n",
              "      <td>Talcher</td>\n",
              "      <td>T.T.P.S.Colony, Talcher</td>\n",
              "      <td>Odisha State Pollution Control Board</td>\n",
              "      <td>Industrial Area</td>\n",
              "      <td>10</td>\n",
              "      <td>25</td>\n",
              "      <td>137</td>\n",
              "      <td>107.0</td>\n",
              "    </tr>\n",
              "    <tr>\n",
              "      <th>4</th>\n",
              "      <td>68</td>\n",
              "      <td>16-01-15</td>\n",
              "      <td>Odisha</td>\n",
              "      <td>Talcher</td>\n",
              "      <td>T.T.P.S.Colony, Talcher</td>\n",
              "      <td>Odisha State Pollution Control Board</td>\n",
              "      <td>Industrial Area</td>\n",
              "      <td>9</td>\n",
              "      <td>26</td>\n",
              "      <td>186</td>\n",
              "      <td>118.0</td>\n",
              "    </tr>\n",
              "  </tbody>\n",
              "</table>\n",
              "</div>\n",
              "      <button class=\"colab-df-convert\" onclick=\"convertToInteractive('df-98903956-0311-405b-bed8-549230f43138')\"\n",
              "              title=\"Convert this dataframe to an interactive table.\"\n",
              "              style=\"display:none;\">\n",
              "        \n",
              "  <svg xmlns=\"http://www.w3.org/2000/svg\" height=\"24px\"viewBox=\"0 0 24 24\"\n",
              "       width=\"24px\">\n",
              "    <path d=\"M0 0h24v24H0V0z\" fill=\"none\"/>\n",
              "    <path d=\"M18.56 5.44l.94 2.06.94-2.06 2.06-.94-2.06-.94-.94-2.06-.94 2.06-2.06.94zm-11 1L8.5 8.5l.94-2.06 2.06-.94-2.06-.94L8.5 2.5l-.94 2.06-2.06.94zm10 10l.94 2.06.94-2.06 2.06-.94-2.06-.94-.94-2.06-.94 2.06-2.06.94z\"/><path d=\"M17.41 7.96l-1.37-1.37c-.4-.4-.92-.59-1.43-.59-.52 0-1.04.2-1.43.59L10.3 9.45l-7.72 7.72c-.78.78-.78 2.05 0 2.83L4 21.41c.39.39.9.59 1.41.59.51 0 1.02-.2 1.41-.59l7.78-7.78 2.81-2.81c.8-.78.8-2.07 0-2.86zM5.41 20L4 18.59l7.72-7.72 1.47 1.35L5.41 20z\"/>\n",
              "  </svg>\n",
              "      </button>\n",
              "      \n",
              "  <style>\n",
              "    .colab-df-container {\n",
              "      display:flex;\n",
              "      flex-wrap:wrap;\n",
              "      gap: 12px;\n",
              "    }\n",
              "\n",
              "    .colab-df-convert {\n",
              "      background-color: #E8F0FE;\n",
              "      border: none;\n",
              "      border-radius: 50%;\n",
              "      cursor: pointer;\n",
              "      display: none;\n",
              "      fill: #1967D2;\n",
              "      height: 32px;\n",
              "      padding: 0 0 0 0;\n",
              "      width: 32px;\n",
              "    }\n",
              "\n",
              "    .colab-df-convert:hover {\n",
              "      background-color: #E2EBFA;\n",
              "      box-shadow: 0px 1px 2px rgba(60, 64, 67, 0.3), 0px 1px 3px 1px rgba(60, 64, 67, 0.15);\n",
              "      fill: #174EA6;\n",
              "    }\n",
              "\n",
              "    [theme=dark] .colab-df-convert {\n",
              "      background-color: #3B4455;\n",
              "      fill: #D2E3FC;\n",
              "    }\n",
              "\n",
              "    [theme=dark] .colab-df-convert:hover {\n",
              "      background-color: #434B5C;\n",
              "      box-shadow: 0px 1px 3px 1px rgba(0, 0, 0, 0.15);\n",
              "      filter: drop-shadow(0px 1px 2px rgba(0, 0, 0, 0.3));\n",
              "      fill: #FFFFFF;\n",
              "    }\n",
              "  </style>\n",
              "\n",
              "      <script>\n",
              "        const buttonEl =\n",
              "          document.querySelector('#df-98903956-0311-405b-bed8-549230f43138 button.colab-df-convert');\n",
              "        buttonEl.style.display =\n",
              "          google.colab.kernel.accessAllowed ? 'block' : 'none';\n",
              "\n",
              "        async function convertToInteractive(key) {\n",
              "          const element = document.querySelector('#df-98903956-0311-405b-bed8-549230f43138');\n",
              "          const dataTable =\n",
              "            await google.colab.kernel.invokeFunction('convertToInteractive',\n",
              "                                                     [key], {});\n",
              "          if (!dataTable) return;\n",
              "\n",
              "          const docLinkHtml = 'Like what you see? Visit the ' +\n",
              "            '<a target=\"_blank\" href=https://colab.research.google.com/notebooks/data_table.ipynb>data table notebook</a>'\n",
              "            + ' to learn more about interactive tables.';\n",
              "          element.innerHTML = '';\n",
              "          dataTable['output_type'] = 'display_data';\n",
              "          await google.colab.output.renderOutput(dataTable, element);\n",
              "          const docLink = document.createElement('div');\n",
              "          docLink.innerHTML = docLinkHtml;\n",
              "          element.appendChild(docLink);\n",
              "        }\n",
              "      </script>\n",
              "    </div>\n",
              "  </div>\n",
              "  "
            ]
          },
          "metadata": {},
          "execution_count": 9
        }
      ]
    },
    {
      "cell_type": "code",
      "source": [
        "from sklearn.linear_model import LinearRegression\n"
      ],
      "metadata": {
        "id": "KeBg9ed8Jpu-"
      },
      "execution_count": 10,
      "outputs": []
    },
    {
      "cell_type": "code",
      "source": [
        "X = df[['SO2']]\n",
        "Y = df['NO2']"
      ],
      "metadata": {
        "id": "keUtJH2sJuPd"
      },
      "execution_count": 11,
      "outputs": []
    },
    {
      "cell_type": "code",
      "source": [
        "df.plot(kind= 'scatter', x='SO2' , y='NO2')\n"
      ],
      "metadata": {
        "colab": {
          "base_uri": "https://localhost:8080/",
          "height": 296
        },
        "id": "KbdYCk5NJwfT",
        "outputId": "069b1d57-e090-4293-8407-9562ae83d0f9"
      },
      "execution_count": 12,
      "outputs": [
        {
          "output_type": "execute_result",
          "data": {
            "text/plain": [
              "<matplotlib.axes._subplots.AxesSubplot at 0x7f6318faa8d0>"
            ]
          },
          "metadata": {},
          "execution_count": 12
        },
        {
          "output_type": "display_data",
          "data": {
            "text/plain": [
              "<Figure size 432x288 with 1 Axes>"
            ],
            "image/png": "[encoded data removed]"
          },
          "metadata": {
            "needs_background": "light"
          }
        }
      ]
    },
    {
      "cell_type": "code",
      "source": [
        "sns.scatterplot( x=df['SO2'] , y=df['NO2'])"
      ],
      "metadata": {
        "colab": {
          "base_uri": "https://localhost:8080/",
          "height": 296
        },
        "id": "HFoRP0GLJzvs",
        "outputId": "75d678a2-fb45-42e2-fdda-6935008e2e70"
      },
      "execution_count": 13,
      "outputs": [
        {
          "output_type": "execute_result",
          "data": {
            "text/plain": [
              "<matplotlib.axes._subplots.AxesSubplot at 0x7f6318bd3310>"
            ]
          },
          "metadata": {},
          "execution_count": 13
        },
        {
          "output_type": "display_data",
          "data": {
            "text/plain": [
              "<Figure size 432x288 with 1 Axes>"
            ],
            "image/png": "[encoded data removed]"
          },
          "metadata": {
            "needs_background": "light"
          }
        }
      ]
    },
    {
      "cell_type": "code",
      "source": [
        "lm = LinearRegression(fit_intercept=False)"
      ],
      "metadata": {
        "id": "8NzdDIM6J2-E"
      },
      "execution_count": 14,
      "outputs": []
    },
    {
      "cell_type": "code",
      "source": [
        "lm.fit(X,Y)\n"
      ],
      "metadata": {
        "colab": {
          "base_uri": "https://localhost:8080/"
        },
        "id": "cIbmlc75J5ob",
        "outputId": "fb775e2b-de05-4d96-b328-ca3f09382df1"
      },
      "execution_count": 15,
      "outputs": [
        {
          "output_type": "execute_result",
          "data": {
            "text/plain": [
              "LinearRegression(fit_intercept=False)"
            ]
          },
          "metadata": {},
          "execution_count": 15
        }
      ]
    },
    {
      "cell_type": "code",
      "source": [
        "lm.coef_"
      ],
      "metadata": {
        "colab": {
          "base_uri": "https://localhost:8080/"
        },
        "id": "pWbzrU_cJ5uG",
        "outputId": "43dd50f0-7089-4fa8-a1a0-c02b69400fec"
      },
      "execution_count": 16,
      "outputs": [
        {
          "output_type": "execute_result",
          "data": {
            "text/plain": [
              "array([2.1545])"
            ]
          },
          "metadata": {},
          "execution_count": 16
        }
      ]
    },
    {
      "cell_type": "code",
      "source": [
        "lm.predict([[8]])\n"
      ],
      "metadata": {
        "colab": {
          "base_uri": "https://localhost:8080/"
        },
        "id": "_stqXpY7J_A5",
        "outputId": "ae94a0f8-9fbd-4b1a-ddd5-92bbb4a394e8"
      },
      "execution_count": 17,
      "outputs": [
        {
          "output_type": "stream",
          "name": "stderr",
          "text": [
            "/usr/local/lib/python3.7/dist-packages/sklearn/base.py:451: UserWarning: X does not have valid feature names, but LinearRegression was fitted with feature names\n",
            "  \"X does not have valid feature names, but\"\n"
          ]
        },
        {
          "output_type": "execute_result",
          "data": {
            "text/plain": [
              "array([17.23600004])"
            ]
          },
          "metadata": {},
          "execution_count": 17
        }
      ]
    }
  ]
}